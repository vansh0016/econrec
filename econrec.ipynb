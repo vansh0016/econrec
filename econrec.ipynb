{
  "nbformat": 4,
  "nbformat_minor": 0,
  "metadata": {
    "colab": {
      "provenance": []
    },
    "kernelspec": {
      "name": "python3",
      "display_name": "Python 3"
    },
    "language_info": {
      "name": "python"
    }
  },
  "cells": [
    {
      "cell_type": "code",
      "execution_count": null,
      "metadata": {
        "colab": {
          "base_uri": "https://localhost:8080/"
        },
        "id": "7m7OnqCjYy2d",
        "outputId": "1d0822bd-0930-495b-e317-cf0dd37c7346"
      },
      "outputs": [
        {
          "output_type": "stream",
          "name": "stdout",
          "text": [
            "Requirement already satisfied: pandas in /usr/local/lib/python3.10/dist-packages (1.5.3)\n",
            "Requirement already satisfied: numpy in /usr/local/lib/python3.10/dist-packages (1.25.2)\n",
            "Requirement already satisfied: scikit-learn in /usr/local/lib/python3.10/dist-packages (1.2.2)\n",
            "Requirement already satisfied: python-dateutil>=2.8.1 in /usr/local/lib/python3.10/dist-packages (from pandas) (2.8.2)\n",
            "Requirement already satisfied: pytz>=2020.1 in /usr/local/lib/python3.10/dist-packages (from pandas) (2023.4)\n",
            "Requirement already satisfied: scipy>=1.3.2 in /usr/local/lib/python3.10/dist-packages (from scikit-learn) (1.11.4)\n",
            "Requirement already satisfied: joblib>=1.1.1 in /usr/local/lib/python3.10/dist-packages (from scikit-learn) (1.3.2)\n",
            "Requirement already satisfied: threadpoolctl>=2.0.0 in /usr/local/lib/python3.10/dist-packages (from scikit-learn) (3.3.0)\n",
            "Requirement already satisfied: six>=1.5 in /usr/local/lib/python3.10/dist-packages (from python-dateutil>=2.8.1->pandas) (1.16.0)\n"
          ]
        }
      ],
      "source": [
        "!pip install pandas numpy scikit-learn\n"
      ]
    },
    {
      "cell_type": "code",
      "source": [
        "import pandas as pd\n",
        "\n",
        "# Load US recession data from FRED\n",
        "url = 'https://fred.stlouisfed.org/graph/fredgraph.csv?id=USRECM'\n",
        "df = pd.read_csv(url, parse_dates=['DATE'], index_col='DATE')\n"
      ],
      "metadata": {
        "id": "fwYUsmv5cqa4"
      },
      "execution_count": null,
      "outputs": []
    },
    {
      "cell_type": "code",
      "source": [
        "# Define features (if any) and target variable\n",
        "# For simplicity, assume the features are the same as the target variable (lagged values)\n",
        "X = df[:-1]  # Features (all data except the last entry)\n",
        "y = df[1:]   # Target variable (all data except the first entry)\n"
      ],
      "metadata": {
        "id": "OVhoYJbOctHC"
      },
      "execution_count": null,
      "outputs": []
    },
    {
      "cell_type": "code",
      "source": [
        "from sklearn.model_selection import train_test_split\n",
        "\n",
        "X_train, X_test, y_train, y_test = train_test_split(X, y, test_size=0.2, random_state=42)\n"
      ],
      "metadata": {
        "id": "bXH7fFsAc3SS"
      },
      "execution_count": null,
      "outputs": []
    },
    {
      "cell_type": "code",
      "source": [
        "from sklearn.ensemble import RandomForestClassifier\n",
        "\n",
        "# Choose a machine learning model (e.g., Random Forest)\n",
        "model = RandomForestClassifier()\n",
        "\n",
        "# Train the model\n",
        "model.fit(X_train, y_train)\n"
      ],
      "metadata": {
        "colab": {
          "base_uri": "https://localhost:8080/",
          "height": 129
        },
        "id": "iMr27IGac9uZ",
        "outputId": "8e65bcca-951a-40b3-a399-403dbc0aa97e"
      },
      "execution_count": null,
      "outputs": [
        {
          "output_type": "stream",
          "name": "stderr",
          "text": [
            "<ipython-input-15-f9921c6c53bf>:7: DataConversionWarning: A column-vector y was passed when a 1d array was expected. Please change the shape of y to (n_samples,), for example using ravel().\n",
            "  model.fit(X_train, y_train)\n"
          ]
        },
        {
          "output_type": "execute_result",
          "data": {
            "text/plain": [
              "RandomForestClassifier()"
            ],
            "text/html": [
              "<style>#sk-container-id-1 {color: black;background-color: white;}#sk-container-id-1 pre{padding: 0;}#sk-container-id-1 div.sk-toggleable {background-color: white;}#sk-container-id-1 label.sk-toggleable__label {cursor: pointer;display: block;width: 100%;margin-bottom: 0;padding: 0.3em;box-sizing: border-box;text-align: center;}#sk-container-id-1 label.sk-toggleable__label-arrow:before {content: \"▸\";float: left;margin-right: 0.25em;color: #696969;}#sk-container-id-1 label.sk-toggleable__label-arrow:hover:before {color: black;}#sk-container-id-1 div.sk-estimator:hover label.sk-toggleable__label-arrow:before {color: black;}#sk-container-id-1 div.sk-toggleable__content {max-height: 0;max-width: 0;overflow: hidden;text-align: left;background-color: #f0f8ff;}#sk-container-id-1 div.sk-toggleable__content pre {margin: 0.2em;color: black;border-radius: 0.25em;background-color: #f0f8ff;}#sk-container-id-1 input.sk-toggleable__control:checked~div.sk-toggleable__content {max-height: 200px;max-width: 100%;overflow: auto;}#sk-container-id-1 input.sk-toggleable__control:checked~label.sk-toggleable__label-arrow:before {content: \"▾\";}#sk-container-id-1 div.sk-estimator input.sk-toggleable__control:checked~label.sk-toggleable__label {background-color: #d4ebff;}#sk-container-id-1 div.sk-label input.sk-toggleable__control:checked~label.sk-toggleable__label {background-color: #d4ebff;}#sk-container-id-1 input.sk-hidden--visually {border: 0;clip: rect(1px 1px 1px 1px);clip: rect(1px, 1px, 1px, 1px);height: 1px;margin: -1px;overflow: hidden;padding: 0;position: absolute;width: 1px;}#sk-container-id-1 div.sk-estimator {font-family: monospace;background-color: #f0f8ff;border: 1px dotted black;border-radius: 0.25em;box-sizing: border-box;margin-bottom: 0.5em;}#sk-container-id-1 div.sk-estimator:hover {background-color: #d4ebff;}#sk-container-id-1 div.sk-parallel-item::after {content: \"\";width: 100%;border-bottom: 1px solid gray;flex-grow: 1;}#sk-container-id-1 div.sk-label:hover label.sk-toggleable__label {background-color: #d4ebff;}#sk-container-id-1 div.sk-serial::before {content: \"\";position: absolute;border-left: 1px solid gray;box-sizing: border-box;top: 0;bottom: 0;left: 50%;z-index: 0;}#sk-container-id-1 div.sk-serial {display: flex;flex-direction: column;align-items: center;background-color: white;padding-right: 0.2em;padding-left: 0.2em;position: relative;}#sk-container-id-1 div.sk-item {position: relative;z-index: 1;}#sk-container-id-1 div.sk-parallel {display: flex;align-items: stretch;justify-content: center;background-color: white;position: relative;}#sk-container-id-1 div.sk-item::before, #sk-container-id-1 div.sk-parallel-item::before {content: \"\";position: absolute;border-left: 1px solid gray;box-sizing: border-box;top: 0;bottom: 0;left: 50%;z-index: -1;}#sk-container-id-1 div.sk-parallel-item {display: flex;flex-direction: column;z-index: 1;position: relative;background-color: white;}#sk-container-id-1 div.sk-parallel-item:first-child::after {align-self: flex-end;width: 50%;}#sk-container-id-1 div.sk-parallel-item:last-child::after {align-self: flex-start;width: 50%;}#sk-container-id-1 div.sk-parallel-item:only-child::after {width: 0;}#sk-container-id-1 div.sk-dashed-wrapped {border: 1px dashed gray;margin: 0 0.4em 0.5em 0.4em;box-sizing: border-box;padding-bottom: 0.4em;background-color: white;}#sk-container-id-1 div.sk-label label {font-family: monospace;font-weight: bold;display: inline-block;line-height: 1.2em;}#sk-container-id-1 div.sk-label-container {text-align: center;}#sk-container-id-1 div.sk-container {/* jupyter's `normalize.less` sets `[hidden] { display: none; }` but bootstrap.min.css set `[hidden] { display: none !important; }` so we also need the `!important` here to be able to override the default hidden behavior on the sphinx rendered scikit-learn.org. See: https://github.com/scikit-learn/scikit-learn/issues/21755 */display: inline-block !important;position: relative;}#sk-container-id-1 div.sk-text-repr-fallback {display: none;}</style><div id=\"sk-container-id-1\" class=\"sk-top-container\"><div class=\"sk-text-repr-fallback\"><pre>RandomForestClassifier()</pre><b>In a Jupyter environment, please rerun this cell to show the HTML representation or trust the notebook. <br />On GitHub, the HTML representation is unable to render, please try loading this page with nbviewer.org.</b></div><div class=\"sk-container\" hidden><div class=\"sk-item\"><div class=\"sk-estimator sk-toggleable\"><input class=\"sk-toggleable__control sk-hidden--visually\" id=\"sk-estimator-id-1\" type=\"checkbox\" checked><label for=\"sk-estimator-id-1\" class=\"sk-toggleable__label sk-toggleable__label-arrow\">RandomForestClassifier</label><div class=\"sk-toggleable__content\"><pre>RandomForestClassifier()</pre></div></div></div></div></div>"
            ]
          },
          "metadata": {},
          "execution_count": 15
        }
      ]
    },
    {
      "cell_type": "code",
      "source": [
        "from sklearn.metrics import accuracy_score\n",
        "\n",
        "# Make predictions on the testing set\n",
        "y_pred = model.predict(X_test)\n",
        "\n",
        "# Evaluate model performance\n",
        "accuracy = accuracy_score(y_test, y_pred)\n",
        "print(\"Accuracy:\", accuracy)\n"
      ],
      "metadata": {
        "colab": {
          "base_uri": "https://localhost:8080/"
        },
        "id": "ULBxs0DYdHNM",
        "outputId": "6434ca85-ff16-4625-c6ef-7e0c6384a379"
      },
      "execution_count": null,
      "outputs": [
        {
          "output_type": "stream",
          "name": "stdout",
          "text": [
            "Accuracy: 0.9532019704433498\n"
          ]
        }
      ]
    },
    {
      "cell_type": "code",
      "source": [
        "!pip install pandas"
      ],
      "metadata": {
        "colab": {
          "base_uri": "https://localhost:8080/"
        },
        "id": "RBgqPB2GeQbI",
        "outputId": "614fef49-17fa-4f5a-e041-c554c6893d26"
      },
      "execution_count": null,
      "outputs": [
        {
          "output_type": "stream",
          "name": "stdout",
          "text": [
            "Requirement already satisfied: pandas in /usr/local/lib/python3.10/dist-packages (1.5.3)\n",
            "Requirement already satisfied: python-dateutil>=2.8.1 in /usr/local/lib/python3.10/dist-packages (from pandas) (2.8.2)\n",
            "Requirement already satisfied: pytz>=2020.1 in /usr/local/lib/python3.10/dist-packages (from pandas) (2023.4)\n",
            "Requirement already satisfied: numpy>=1.21.0 in /usr/local/lib/python3.10/dist-packages (from pandas) (1.25.2)\n",
            "Requirement already satisfied: six>=1.5 in /usr/local/lib/python3.10/dist-packages (from python-dateutil>=2.8.1->pandas) (1.16.0)\n"
          ]
        }
      ]
    },
    {
      "cell_type": "code",
      "source": [
        "import pandas as pd"
      ],
      "metadata": {
        "id": "_q3TeReOeVWN"
      },
      "execution_count": null,
      "outputs": []
    },
    {
      "cell_type": "code",
      "source": [
        "data_2024 = pd.read_csv('/content/USRECM.csv')"
      ],
      "metadata": {
        "id": "KzHVSR6HeZXi"
      },
      "execution_count": null,
      "outputs": []
    },
    {
      "cell_type": "code",
      "source": [
        "print(data_2024.head())  # View the first few rows of the DataFrame\n",
        "print(data_2024.info())   # Get information about the DataFrame, such as column names and data types\n",
        "print(data_2024.describe())  # Get summary statistics for numerical columns\n"
      ],
      "metadata": {
        "colab": {
          "base_uri": "https://localhost:8080/"
        },
        "id": "wFEBIl74hSw2",
        "outputId": "1183011f-9a9d-413b-e830-8f7e7631ea57"
      },
      "execution_count": null,
      "outputs": [
        {
          "output_type": "stream",
          "name": "stdout",
          "text": [
            "         DATE  USRECM\n",
            "0  1854-12-01       1\n",
            "1  1855-01-01       0\n",
            "2  1855-02-01       0\n",
            "3  1855-03-01       0\n",
            "4  1855-04-01       0\n",
            "<class 'pandas.core.frame.DataFrame'>\n",
            "RangeIndex: 2031 entries, 0 to 2030\n",
            "Data columns (total 2 columns):\n",
            " #   Column  Non-Null Count  Dtype \n",
            "---  ------  --------------  ----- \n",
            " 0   DATE    2031 non-null   object\n",
            " 1   USRECM  2031 non-null   int64 \n",
            "dtypes: int64(1), object(1)\n",
            "memory usage: 31.9+ KB\n",
            "None\n",
            "            USRECM\n",
            "count  2031.000000\n",
            "mean      0.301822\n",
            "std       0.459161\n",
            "min       0.000000\n",
            "25%       0.000000\n",
            "50%       0.000000\n",
            "75%       1.000000\n",
            "max       1.000000\n"
          ]
        }
      ]
    },
    {
      "cell_type": "code",
      "source": [
        "# Assuming you have already split your data into training and testing sets (X_train, X_test, y_train, y_test)\n",
        "\n",
        "# 1. Import the RandomForestClassifier model\n",
        "from sklearn.ensemble import RandomForestClassifier\n",
        "\n",
        "# 2. Create an instance of the RandomForestClassifier model\n",
        "model = RandomForestClassifier()\n",
        "\n",
        "# 3. Train (fit) the model on your training data\n",
        "model.fit(X_train, y_train)\n",
        "\n",
        "# 4. Once the model is trained, you can make predictions\n",
        "predictions_2024 = model.predict(data_2024[['USRECM']])recession period  in 2024\n",
        "2020 to 2024 ,model.prediction\n",
        "+raandom forest"
      ],
      "metadata": {
        "colab": {
          "base_uri": "https://localhost:8080/"
        },
        "id": "JhXYAhj1jpab",
        "outputId": "3fd959c9-d418-419c-c9fb-1a73caf268e2"
      },
      "execution_count": null,
      "outputs": [
        {
          "output_type": "stream",
          "name": "stderr",
          "text": [
            "<ipython-input-55-35eea18b9679>:10: DataConversionWarning: A column-vector y was passed when a 1d array was expected. Please change the shape of y to (n_samples,), for example using ravel().\n",
            "  model.fit(X_train, y_train)\n"
          ]
        }
      ]
    },
    {
      "cell_type": "code",
      "source": [
        "print(\"Length of actual_recession_2024:\", len(actual_recession_2024))\n",
        "print(\"Length of predictions_2024:\", len(predictions_2024))\n"
      ],
      "metadata": {
        "colab": {
          "base_uri": "https://localhost:8080/"
        },
        "id": "gsQh2zfkkHvv",
        "outputId": "9dad7ba8-21ac-44b0-f37b-985fcc4f5c7d"
      },
      "execution_count": null,
      "outputs": [
        {
          "output_type": "stream",
          "name": "stdout",
          "text": [
            "Length of actual_recession_2024: 6\n",
            "Length of predictions_2024: 2031\n"
          ]
        }
      ]
    },
    {
      "cell_type": "code",
      "source": [
        "# Assuming you've successfully calculated the accuracy\n",
        "print(\"Accuracy:\", accuracy)\n",
        "\n",
        "# 1. Classification Report\n",
        "# Generate a classification report to get more insights into model performance\n",
        "from sklearn.metrics import classification_report\n",
        "print(classification_report(actual_recession_2024, predictions_2024))\n",
        "\n",
        "# 2. Confusion Matrix\n",
        "# Visualize the confusion matrix to understand the distribution of true positive, true negative, false positive, and false negative predictions\n",
        "from sklearn.metrics import confusion_matrix\n",
        "import seaborn as sns\n",
        "import matplotlib.pyplot as plt\n",
        "\n",
        "cm = confusion_matrix(actual_recession_2024, predictions_2024)\n",
        "plt.figure(figsize=(8, 6))\n",
        "sns.heatmap(cm, annot=True, fmt='d', cmap='Blues', cbar=False, annot_kws={\"size\": 16})\n",
        "plt.xlabel('Predicted Label', fontsize=14)\n",
        "plt.ylabel('True Label', fontsize=14)\n",
        "plt.title('Confusion Matrix', fontsize=16)\n",
        "plt.show()\n",
        "plt.graph\n",
        "\n",
        "# 3. Feature Importance (if applicable)\n",
        "# If you're using a model that supports it (e.g., RandomForestClassifier), you can examine feature importances\n",
        "if isinstance(model, RandomForestClassifier):\n",
        "    feature_importances = model.feature_importances_\n",
        "    # Visualize feature importances, if needed\n",
        "\n",
        "# 4. Further Analysis or Visualization\n",
        "# Depending on your project goals, you can perform additional analysis or visualization to gain insights into the model's behavior or the underlying data patterns.\n",
        "\n",
        "# 5. Deployment or Reporting\n",
        "# If your model meets your requirements and performs well, you may deploy it for practical use or report your findings in a project report, presentation, or paper.\n"
      ],
      "metadata": {
        "colab": {
          "base_uri": "https://localhost:8080/",
          "height": 391
        },
        "id": "rRTlL6CXkXo9",
        "outputId": "19510783-edcd-4ca5-8371-e64627753b88"
      },
      "execution_count": null,
      "outputs": [
        {
          "output_type": "stream",
          "name": "stdout",
          "text": [
            "Accuracy: 0.9532019704433498\n"
          ]
        },
        {
          "output_type": "error",
          "ename": "ValueError",
          "evalue": "Found input variables with inconsistent numbers of samples: [6, 2031]",
          "traceback": [
            "\u001b[0;31m---------------------------------------------------------------------------\u001b[0m",
            "\u001b[0;31mValueError\u001b[0m                                Traceback (most recent call last)",
            "\u001b[0;32m<ipython-input-60-809ff0571d34>\u001b[0m in \u001b[0;36m<cell line: 7>\u001b[0;34m()\u001b[0m\n\u001b[1;32m      5\u001b[0m \u001b[0;31m# Generate a classification report to get more insights into model performance\u001b[0m\u001b[0;34m\u001b[0m\u001b[0;34m\u001b[0m\u001b[0m\n\u001b[1;32m      6\u001b[0m \u001b[0;32mfrom\u001b[0m \u001b[0msklearn\u001b[0m\u001b[0;34m.\u001b[0m\u001b[0mmetrics\u001b[0m \u001b[0;32mimport\u001b[0m \u001b[0mclassification_report\u001b[0m\u001b[0;34m\u001b[0m\u001b[0;34m\u001b[0m\u001b[0m\n\u001b[0;32m----> 7\u001b[0;31m \u001b[0mprint\u001b[0m\u001b[0;34m(\u001b[0m\u001b[0mclassification_report\u001b[0m\u001b[0;34m(\u001b[0m\u001b[0mactual_recession_2024\u001b[0m\u001b[0;34m,\u001b[0m \u001b[0mpredictions_2024\u001b[0m\u001b[0;34m)\u001b[0m\u001b[0;34m)\u001b[0m\u001b[0;34m\u001b[0m\u001b[0;34m\u001b[0m\u001b[0m\n\u001b[0m\u001b[1;32m      8\u001b[0m \u001b[0;34m\u001b[0m\u001b[0m\n\u001b[1;32m      9\u001b[0m \u001b[0;31m# 2. Confusion Matrix\u001b[0m\u001b[0;34m\u001b[0m\u001b[0;34m\u001b[0m\u001b[0m\n",
            "\u001b[0;32m/usr/local/lib/python3.10/dist-packages/sklearn/metrics/_classification.py\u001b[0m in \u001b[0;36mclassification_report\u001b[0;34m(y_true, y_pred, labels, target_names, sample_weight, digits, output_dict, zero_division)\u001b[0m\n\u001b[1;32m   2308\u001b[0m     \"\"\"\n\u001b[1;32m   2309\u001b[0m \u001b[0;34m\u001b[0m\u001b[0m\n\u001b[0;32m-> 2310\u001b[0;31m     \u001b[0my_type\u001b[0m\u001b[0;34m,\u001b[0m \u001b[0my_true\u001b[0m\u001b[0;34m,\u001b[0m \u001b[0my_pred\u001b[0m \u001b[0;34m=\u001b[0m \u001b[0m_check_targets\u001b[0m\u001b[0;34m(\u001b[0m\u001b[0my_true\u001b[0m\u001b[0;34m,\u001b[0m \u001b[0my_pred\u001b[0m\u001b[0;34m)\u001b[0m\u001b[0;34m\u001b[0m\u001b[0;34m\u001b[0m\u001b[0m\n\u001b[0m\u001b[1;32m   2311\u001b[0m \u001b[0;34m\u001b[0m\u001b[0m\n\u001b[1;32m   2312\u001b[0m     \u001b[0;32mif\u001b[0m \u001b[0mlabels\u001b[0m \u001b[0;32mis\u001b[0m \u001b[0;32mNone\u001b[0m\u001b[0;34m:\u001b[0m\u001b[0;34m\u001b[0m\u001b[0;34m\u001b[0m\u001b[0m\n",
            "\u001b[0;32m/usr/local/lib/python3.10/dist-packages/sklearn/metrics/_classification.py\u001b[0m in \u001b[0;36m_check_targets\u001b[0;34m(y_true, y_pred)\u001b[0m\n\u001b[1;32m     84\u001b[0m     \u001b[0my_pred\u001b[0m \u001b[0;34m:\u001b[0m \u001b[0marray\u001b[0m \u001b[0;32mor\u001b[0m \u001b[0mindicator\u001b[0m \u001b[0mmatrix\u001b[0m\u001b[0;34m\u001b[0m\u001b[0;34m\u001b[0m\u001b[0m\n\u001b[1;32m     85\u001b[0m     \"\"\"\n\u001b[0;32m---> 86\u001b[0;31m     \u001b[0mcheck_consistent_length\u001b[0m\u001b[0;34m(\u001b[0m\u001b[0my_true\u001b[0m\u001b[0;34m,\u001b[0m \u001b[0my_pred\u001b[0m\u001b[0;34m)\u001b[0m\u001b[0;34m\u001b[0m\u001b[0;34m\u001b[0m\u001b[0m\n\u001b[0m\u001b[1;32m     87\u001b[0m     \u001b[0mtype_true\u001b[0m \u001b[0;34m=\u001b[0m \u001b[0mtype_of_target\u001b[0m\u001b[0;34m(\u001b[0m\u001b[0my_true\u001b[0m\u001b[0;34m,\u001b[0m \u001b[0minput_name\u001b[0m\u001b[0;34m=\u001b[0m\u001b[0;34m\"y_true\"\u001b[0m\u001b[0;34m)\u001b[0m\u001b[0;34m\u001b[0m\u001b[0;34m\u001b[0m\u001b[0m\n\u001b[1;32m     88\u001b[0m     \u001b[0mtype_pred\u001b[0m \u001b[0;34m=\u001b[0m \u001b[0mtype_of_target\u001b[0m\u001b[0;34m(\u001b[0m\u001b[0my_pred\u001b[0m\u001b[0;34m,\u001b[0m \u001b[0minput_name\u001b[0m\u001b[0;34m=\u001b[0m\u001b[0;34m\"y_pred\"\u001b[0m\u001b[0;34m)\u001b[0m\u001b[0;34m\u001b[0m\u001b[0;34m\u001b[0m\u001b[0m\n",
            "\u001b[0;32m/usr/local/lib/python3.10/dist-packages/sklearn/utils/validation.py\u001b[0m in \u001b[0;36mcheck_consistent_length\u001b[0;34m(*arrays)\u001b[0m\n\u001b[1;32m    395\u001b[0m     \u001b[0muniques\u001b[0m \u001b[0;34m=\u001b[0m \u001b[0mnp\u001b[0m\u001b[0;34m.\u001b[0m\u001b[0munique\u001b[0m\u001b[0;34m(\u001b[0m\u001b[0mlengths\u001b[0m\u001b[0;34m)\u001b[0m\u001b[0;34m\u001b[0m\u001b[0;34m\u001b[0m\u001b[0m\n\u001b[1;32m    396\u001b[0m     \u001b[0;32mif\u001b[0m \u001b[0mlen\u001b[0m\u001b[0;34m(\u001b[0m\u001b[0muniques\u001b[0m\u001b[0;34m)\u001b[0m \u001b[0;34m>\u001b[0m \u001b[0;36m1\u001b[0m\u001b[0;34m:\u001b[0m\u001b[0;34m\u001b[0m\u001b[0;34m\u001b[0m\u001b[0m\n\u001b[0;32m--> 397\u001b[0;31m         raise ValueError(\n\u001b[0m\u001b[1;32m    398\u001b[0m             \u001b[0;34m\"Found input variables with inconsistent numbers of samples: %r\"\u001b[0m\u001b[0;34m\u001b[0m\u001b[0;34m\u001b[0m\u001b[0m\n\u001b[1;32m    399\u001b[0m             \u001b[0;34m%\u001b[0m \u001b[0;34m[\u001b[0m\u001b[0mint\u001b[0m\u001b[0;34m(\u001b[0m\u001b[0ml\u001b[0m\u001b[0;34m)\u001b[0m \u001b[0;32mfor\u001b[0m \u001b[0ml\u001b[0m \u001b[0;32min\u001b[0m \u001b[0mlengths\u001b[0m\u001b[0;34m]\u001b[0m\u001b[0;34m\u001b[0m\u001b[0;34m\u001b[0m\u001b[0m\n",
            "\u001b[0;31mValueError\u001b[0m: Found input variables with inconsistent numbers of samples: [6, 2031]"
          ]
        }
      ]
    },
    {
      "cell_type": "code",
      "source": [
        "print(\"Length of actual_recession_2024:\", len(actual_recession_2024))\n",
        "print(\"Length of predictions_2024:\", len(predictions_2024))\n"
      ],
      "metadata": {
        "colab": {
          "base_uri": "https://localhost:8080/"
        },
        "id": "6i3bYnFukfuo",
        "outputId": "915d23d7-17f9-4f9d-d3f6-5078d3e73f33"
      },
      "execution_count": null,
      "outputs": [
        {
          "output_type": "stream",
          "name": "stdout",
          "text": [
            "Length of actual_recession_2024: 6\n",
            "Length of predictions_2024: 2031\n"
          ]
        }
      ]
    },
    {
      "cell_type": "code",
      "source": [
        "# 1. Prepare Data for 2024 (Assuming you have loaded the data into a DataFrame called data_2024)\n",
        "  data_2024 = pd.read_csv(content/USRECM.csv')\n",
        "\n",
        "# 2. Preprocess Data (if needed)\n",
        "# Example: If you need to preprocess the data, apply the same preprocessing steps used on your training data\n",
        "\n",
        "# 3. Make Predictions for 2024\n",
        "predictions_2024 = model.predict(data_2024)\n",
        "\n",
        "# If you have probability predictions (e.g., for a binary classification model), use predict_proba instead\n",
        "# probabilities_2024 = model.predict_proba(data_2024)\n",
        "\n",
        "# 4. Further Analysis or Deployment\n",
        "# Depending on your project goals, you may perform further analysis on the predictions or deploy the model for practical use.\n"
      ],
      "metadata": {
        "colab": {
          "base_uri": "https://localhost:8080/",
          "height": 106
        },
        "id": "wHBMp52Vk3ST",
        "outputId": "ab3259a6-9cfe-4046-a63b-a7e16dbc6f1d"
      },
      "execution_count": null,
      "outputs": [
        {
          "output_type": "error",
          "ename": "IndentationError",
          "evalue": "unexpected indent (<ipython-input-62-f132c3a906aa>, line 2)",
          "traceback": [
            "\u001b[0;36m  File \u001b[0;32m\"<ipython-input-62-f132c3a906aa>\"\u001b[0;36m, line \u001b[0;32m2\u001b[0m\n\u001b[0;31m    data_2024 = pd.read_csv(content/USRECM.csv')\u001b[0m\n\u001b[0m    ^\u001b[0m\n\u001b[0;31mIndentationError\u001b[0m\u001b[0;31m:\u001b[0m unexpected indent\n"
          ]
        }
      ]
    },
    {
      "cell_type": "code",
      "source": [
        "# Drop the 'DATE' column from the DataFrame\n",
        "data_2024.drop(columns=['DATE'], inplace=True)\n",
        "\n",
        "# Now, you can make predictions using the modified DataFrame\n",
        "predictions_2024 = model.predict(data_2024)\n"
      ],
      "metadata": {
        "id": "s3R-iAAcljh6"
      },
      "execution_count": null,
      "outputs": []
    },
    {
      "cell_type": "code",
      "source": [
        "# Assuming X_train, y_train are your original training data with 'DATE' included\n",
        "# Assuming model is your original model that needs to be re-trained\n",
        "# Assuming data_2024 contains the 2024 data with 'DATE' included\n",
        "\n",
        "# Re-train the model with 'DATE' included as a feature\n",
        "model.fit(X_train, y_train)\n",
        "\n",
        "# Now, you can make predictions using the re-trained model\n",
        "predictions_2024 = model.predict(data_2024)\n"
      ],
      "metadata": {
        "colab": {
          "base_uri": "https://localhost:8080/"
        },
        "id": "PMYkLhXulmT_",
        "outputId": "4092c40d-2f9c-42ed-b639-a5b139ad0b74"
      },
      "execution_count": null,
      "outputs": [
        {
          "output_type": "stream",
          "name": "stderr",
          "text": [
            "<ipython-input-65-a3b78d58dc84>:6: DataConversionWarning: A column-vector y was passed when a 1d array was expected. Please change the shape of y to (n_samples,), for example using ravel().\n",
            "  model.fit(X_train, y_train)\n"
          ]
        }
      ]
    },
    {
      "cell_type": "code",
      "source": [
        "# Assuming you've verified that the input features for 2024 match those used during training\n",
        "# Now, you can make predictions using the original model\n",
        "predictions_2024 = model.predict(data_2024)\n"
      ],
      "metadata": {
        "id": "K8lF24g4lq8x"
      },
      "execution_count": null,
      "outputs": []
    },
    {
      "cell_type": "code",
      "source": [
        "# Example: Count the number of predicted recessions and non-recessions\n",
        "num_recessions = sum(predictions_2024)\n",
        "num_non_recessions = len(predictions_2024) - num_recessions\n",
        "print(\"Number of predicted recessions:\", num_recessions)\n",
        "print(\"Number of predicted non-recessions:\", num_non_recessions)\n"
      ],
      "metadata": {
        "colab": {
          "base_uri": "https://localhost:8080/"
        },
        "id": "32U0PdLll2vb",
        "outputId": "f0a30a56-3988-4939-e79e-1514694eb4d5"
      },
      "execution_count": null,
      "outputs": [
        {
          "output_type": "stream",
          "name": "stdout",
          "text": [
            "Number of predicted recessions: 613\n",
            "Number of predicted non-recessions: 1418\n"
          ]
        }
      ]
    },
    {
      "cell_type": "code",
      "source": [
        "# Example: Create a bar chart to visualize the predicted outcomes\n",
        "import matplotlib.pyplot as plt\n",
        "\n",
        "plt.bar(['Recession', 'Non-Recession'], [num_recessions, num_non_recessions])\n",
        "plt.xlabel('Predicted Outcome')\n",
        "plt.ylabel('Count')\n",
        "plt.title('Predicted Outcomes for 2024')\n",
        "plt.show()\n"
      ],
      "metadata": {
        "colab": {
          "base_uri": "https://localhost:8080/",
          "height": 472
        },
        "id": "s0eTc6qIl7p4",
        "outputId": "56b8a7df-38f0-49d4-a034-85161eb5d543"
      },
      "execution_count": null,
      "outputs": [
        {
          "output_type": "display_data",
          "data": {
            "text/plain": [
              "<Figure size 640x480 with 1 Axes>"
            ],
            "image/png": "[encoded data removed]"
          },
          "metadata": {}
        }
      ]
    },
    {
      "cell_type": "code",
      "source": [
        "import pandas as pd\n",
        "\n",
        "# Load actual recession indicators for 2024 from CSV file\n",
        "actual_recession_data_2024 = pd.read_csv('//content/USRECM.csv')\n"
      ],
      "metadata": {
        "id": "uVWgd2CdnTuT"
      },
      "execution_count": null,
      "outputs": []
    },
    {
      "cell_type": "code",
      "source": [
        "# Define actual recession indicators for 2024 as a DataFrame\n",
        "actual_recession_data_2024 = ...\n"
      ],
      "metadata": {
        "id": "X4_JLkp1nc2i"
      },
      "execution_count": null,
      "outputs": []
    },
    {
      "cell_type": "code",
      "source": [
        "# Define model predictions for 2024\n",
        "model_predictions_2024 = ...\n"
      ],
      "metadata": {
        "id": "FzvR7zJKng1Q"
      },
      "execution_count": null,
      "outputs": []
    },
    {
      "cell_type": "code",
      "source": [
        "!pip install scikit-learn"
      ],
      "metadata": {
        "colab": {
          "base_uri": "https://localhost:8080/"
        },
        "id": "PPs_NuXrot1v",
        "outputId": "b982d42e-70e8-4f59-df8b-b0a3b563ce7c"
      },
      "execution_count": null,
      "outputs": [
        {
          "output_type": "stream",
          "name": "stdout",
          "text": [
            "Requirement already satisfied: scikit-learn in /usr/local/lib/python3.10/dist-packages (1.2.2)\n",
            "Requirement already satisfied: numpy>=1.17.3 in /usr/local/lib/python3.10/dist-packages (from scikit-learn) (1.25.2)\n",
            "Requirement already satisfied: scipy>=1.3.2 in /usr/local/lib/python3.10/dist-packages (from scikit-learn) (1.11.4)\n",
            "Requirement already satisfied: joblib>=1.1.1 in /usr/local/lib/python3.10/dist-packages (from scikit-learn) (1.3.2)\n",
            "Requirement already satisfied: threadpoolctl>=2.0.0 in /usr/local/lib/python3.10/dist-packages (from scikit-learn) (3.3.0)\n"
          ]
        }
      ]
    },
    {
      "cell_type": "code",
      "source": [
        "from sklearn.metrics import accuracy_score, precision_score, recall_score, f1_score"
      ],
      "metadata": {
        "id": "zWKrmUoVowUl"
      },
      "execution_count": null,
      "outputs": []
    },
    {
      "cell_type": "code",
      "source": [
        "actual_recession_2024 = actual_recession_2024[\"USRECM\"].astype(int)"
      ],
      "metadata": {
        "id": "kZtNwqY7o0Kn"
      },
      "execution_count": null,
      "outputs": []
    },
    {
      "cell_type": "code",
      "source": [
        "accuracy = accuracy_score(actual_recession_2024, model_predictions_2024)\n",
        "precision = precision_score(actual_recession_2024, model_predictions_2024)\n",
        "recall = recall_score(actual_recession_2024, model_predictions_2024)\n",
        "f1 = f1_score(actual_recession_2024, model_predictions_2024)"
      ],
      "metadata": {
        "id": "EXj-I3MHo3LA"
      },
      "execution_count": null,
      "outputs": []
    },
    {
      "cell_type": "code",
      "source": [
        "print(\"Accuracy:\", accuracy)\n",
        "print(\"Precision:\", precision)\n",
        "print(\"Recall:\", recall)\n",
        "print(\"F1-score:\", f1)"
      ],
      "metadata": {
        "colab": {
          "base_uri": "https://localhost:8080/"
        },
        "id": "6_xM602Xo6eK",
        "outputId": "647d805a-3196-4c04-83bd-175969af3679"
      },
      "execution_count": null,
      "outputs": [
        {
          "output_type": "stream",
          "name": "stdout",
          "text": [
            "Accuracy: 1.0\n",
            "Precision: 1.0\n",
            "Recall: 1.0\n",
            "F1-score: 1.0\n"
          ]
        }
      ]
    },
    {
      "cell_type": "code",
      "source": [
        "# Extract relevant features from the 'DATE' column\n",
        "X_train['Year'] = pd.to_datetime(X_train['DATE']).dt.year\n",
        "X_train['Month'] = pd.to_datetime(X_train['DATE']).dt.month\n",
        "X_train['Day'] = pd.to_datetime(X_train['DATE']).dt.day\n",
        "\n",
        "# Drop the original 'DATE' column\n",
        "X_train.drop(columns=['DATE'], inplace=True)\n",
        "\n",
        "# Similarly, preprocess the 'DATE' column in the test set if necessary\n"
      ],
      "metadata": {
        "id": "bl-3Ix8QltZC"
      },
      "execution_count": null,
      "outputs": []
    },
    {
      "cell_type": "code",
      "source": [
        "import pandas as pd\n",
        "\n",
        "# Mock data for the year 2024\n",
        "data_2024 = pd.DataFrame({\n",
        "    'DATE': pd.date_range(start='2024-01-01', end='2024-12-31', freq='M')\n",
        "})\n",
        "\n",
        "# Extract relevant features from the 'DATE' column in 2024 data\n",
        "data_2024['Year'] = data_2024['DATE'].dt.year\n",
        "data_2024['Month'] = data_2024['DATE'].dt.month\n",
        "data_2024['Day'] = data_2024['DATE'].dt.day\n",
        "\n",
        "# Drop the original 'DATE' column in 2024 data\n",
        "data_2024.drop(columns=['DATE'], inplace=True)\n",
        "\n",
        "# Make predictions for 2024\n",
        "predictions_2024 = model.predict(data_2024)\n",
        "\n",
        "# Identify months with predicted recessions\n",
        "recession_months = [month for month, prediction in zip(data_2024['Month'], predictions_2024) if prediction == 1]\n",
        "\n",
        "# Print predicted recession months\n",
        "print(\"Predicted recession months in 2024:\", recession_months)\n"
      ],
      "metadata": {
        "colab": {
          "base_uri": "https://localhost:8080/"
        },
        "id": "m8x2naLQmMuo",
        "outputId": "d1dca859-152d-48b0-c421-9c5061f3919c"
      },
      "execution_count": null,
      "outputs": [
        {
          "output_type": "stream",
          "name": "stdout",
          "text": [
            "Predicted recession months in 2024: []\n"
          ]
        }
      ]
    },
    {
      "cell_type": "code",
      "source": [
        "# Identify the first occurrence of recession in 2024\n",
        "first_recession_month = None\n",
        "for month, prediction in zip(data_2024['Month'], predictions_2024):\n",
        "    if prediction == 1:\n",
        "        first_recession_month = month\n",
        "        break\n",
        "\n",
        "# Print the first recession month in 2024\n",
        "if first_recession_month is not None:\n",
        "    print(\"The first recession is predicted to occur in 2024 in month:\", first_recession_month)\n",
        "else:\n",
        "    print(\"No recession predicted in 2024.\")\n"
      ],
      "metadata": {
        "colab": {
          "base_uri": "https://localhost:8080/"
        },
        "id": "cIj6ChCjmeBI",
        "outputId": "d6c833fd-7ae0-41d9-b168-ef2e39fe246c"
      },
      "execution_count": null,
      "outputs": [
        {
          "output_type": "stream",
          "name": "stdout",
          "text": [
            "No recession predicted in 2024.\n"
          ]
        }
      ]
    },
    {
      "cell_type": "code",
      "source": [
        "# Identify the first occurrence of recession in 2024\n",
        "first_recession_month = None\n",
        "for month, prediction in zip(data_2024['Month'], predictions_2024):\n",
        "    if prediction == 1:\n",
        "        first_recession_month = month\n",
        "        break\n",
        "\n",
        "# Print the first recession month in 2024\n",
        "if first_recession_month is not None:\n",
        "    print(\"The first recession is predicted to occur in 2024 in month:\", first_recession_month)\n",
        "else:\n",
        "    print(\"No recession predicted in 2024.\")\n"
      ],
      "metadata": {
        "colab": {
          "base_uri": "https://localhost:8080/"
        },
        "id": "WVNkKeJmnFEE",
        "outputId": "a45b1c68-65a7-4e91-def7-4660d23ca5c9"
      },
      "execution_count": null,
      "outputs": [
        {
          "output_type": "stream",
          "name": "stdout",
          "text": [
            "No recession predicted in 2024.\n"
          ]
        }
      ]
    },
    {
      "cell_type": "code",
      "source": [
        "import matplotlib.pyplot as plt\n",
        "\n",
        "# Calculate counts of recession and non-recession months\n",
        "rec_count = sum(predictions_2024)\n",
        "non_rec_count = len(predictions_2024) - rec_count\n",
        "\n",
        "# Plot bar graph\n",
        "plt.bar(['Recession', 'No Recession'], [rec_count, non_rec_count])\n",
        "plt.xlabel('Predicted Outcome')\n",
        "plt.ylabel('Count')\n",
        "plt.title('Predicted Outcomes for 2024')\n",
        "plt.show()\n"
      ],
      "metadata": {
        "colab": {
          "base_uri": "https://localhost:8080/",
          "height": 472
        },
        "id": "_VgkPiJmnMvU",
        "outputId": "1bf7f86e-cc5e-4f99-a4c3-c89fdf60f04a"
      },
      "execution_count": null,
      "outputs": [
        {
          "output_type": "display_data",
          "data": {
            "text/plain": [
              "<Figure size 640x480 with 1 Axes>"
            ],
            "image/png": "[encoded data removed]"
          },
          "metadata": {}
        }
      ]
    },
    {
      "cell_type": "code",
      "source": [
        "# Assuming you've trained a RandomForestClassifier model and prepared data for 2024\n",
        "# Train your RandomForestClassifier model (if not already trained)\n",
        "model.fit(X_train, y_train)\n",
        "\n",
        "# Make predictions for 2024\n",
        "predictions_2024 = model.predict(data_2024)\n",
        "\n",
        "# Identify months with a chance of recession in 2024\n",
        "recession_months_2024 = [month for month, prediction in zip(data_2024['Month'], predictions_2024) if prediction == 1]\n",
        "\n",
        "if len(recession_months_2024) > 0:\n",
        "    print(\"Predicted recession months in 2024:\", recession_months_2024)\n",
        "else:\n",
        "    print(\"No predicted recession months in 2024.\")\n",
        "\n"
      ],
      "metadata": {
        "colab": {
          "base_uri": "https://localhost:8080/"
        },
        "id": "Lv5QUZCFpOoi",
        "outputId": "99fafac6-7aa8-4083-efb8-3caad355a6ae"
      },
      "execution_count": null,
      "outputs": [
        {
          "output_type": "stream",
          "name": "stdout",
          "text": [
            "No predicted recession months in 2024.\n"
          ]
        }
      ]
    },
    {
      "cell_type": "code",
      "source": [
        "import pandas as pd\n",
        "from sklearn.ensemble import RandomForestClassifier\n",
        "\n",
        "# 1. Load Historical Data\n",
        "historical_data = pd.read_csv('/content/USRECM.csv')\n",
        "\n",
        "# 2. Prepare Features and Target Variable\n",
        "X_train = historical_data.drop(columns=['DATE'])\n",
        "y_train = historical_data['USRECM']\n",
        "\n",
        "# 3. Train a Model\n",
        "model = RandomForestClassifier()\n",
        "model.fit(X_train, y_train)\n",
        "\n",
        "# 4. Predictions for 2025\n",
        "# Assuming you have prepared or loaded data for 2025 named 'data_2025' with features including 'DATE'\n",
        "data_2025 = pd.read_csv('/content/USRECM.csv')\n",
        "data_2025 = data_2025.drop(columns=['DATE'])  # Dropping 'DATE' column from the data for 2025\n",
        "predictions_2025 = model.predict(data_2025)\n",
        "\n",
        "# 5. Further Analysis (Optional)\n",
        "# Conduct further analysis on the model's predictions and performance if needed\n",
        "\n"
      ],
      "metadata": {
        "id": "uPYaP_XiuagX"
      },
      "execution_count": null,
      "outputs": []
    },
    {
      "cell_type": "code",
      "source": [
        "# Assuming the list of predicted recession months in 2025 is stored in 'recession_months_2025'\n",
        "# Extracting months for the year 2025 (indices 0 to 11 assuming 0-indexed)\n",
        "recession_months_2025_2025 = recession_months_2025[:12]\n",
        "\n",
        "# Printing the list of predicted recession months for 2025\n",
        "print(\"Predicted recession months in 2025:\", recession_months_2025_2025)\n"
      ],
      "metadata": {
        "colab": {
          "base_uri": "https://localhost:8080/"
        },
        "id": "M6kBv9Oovif4",
        "outputId": "14a17a54-3f13-4511-cebf-affc7a1d1d3d"
      },
      "execution_count": null,
      "outputs": [
        {
          "output_type": "stream",
          "name": "stdout",
          "text": [
            "Predicted recession months in 2025: [0, 30, 31, 32, 33, 34, 35, 36, 37, 38, 39, 40]\n"
          ]
        }
      ]
    },
    {
      "cell_type": "code",
      "source": [
        "import matplotlib.pyplot as plt\n",
        "\n",
        "# Predicted recession months in 2025\n",
        "predicted_months = [0, 30, 31, 32, 33, 34, 35, 36, 37, 38, 39, 40]\n",
        "\n",
        "# Create a bar graph\n",
        "plt.figure(figsize=(10, 6))\n",
        "plt.bar(predicted_months, [1] * len(predicted_months), color='red', alpha=0.7)\n",
        "\n",
        "# Set the title and labels\n",
        "plt.title('Predicted Recession Months in 2025')\n",
        "plt.xlabel('Month')\n",
        "plt.ylabel('Recession Prediction')\n",
        "\n",
        "# Set the x-axis ticks and labels\n",
        "month_labels = ['Jan', 'Feb', 'Mar', 'Apr', 'May', 'Jun', 'Jul', 'Aug', 'Sep', 'Oct', 'Nov', 'Dec']\n",
        "plt.xticks(predicted_months, [month_labels[m % 12] for m in predicted_months], rotation=45)\n",
        "\n",
        "# Show plot\n",
        "plt.tight_layout()\n",
        "plt.show()\n"
      ],
      "metadata": {
        "colab": {
          "base_uri": "https://localhost:8080/",
          "height": 607
        },
        "id": "kSV_qhAeyr60",
        "outputId": "f9529338-ccfa-4fd8-ee23-4bc83c9aa4c5"
      },
      "execution_count": null,
      "outputs": [
        {
          "output_type": "display_data",
          "data": {
            "text/plain": [
              "<Figure size 1000x600 with 1 Axes>"
            ],
            "image/png": "[encoded data removed]"
          },
          "metadata": {}
        }
      ]
    }
  ]
}